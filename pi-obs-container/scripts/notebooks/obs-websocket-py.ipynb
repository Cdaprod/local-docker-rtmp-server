{
 "cells": [
  {
   "metadata": {},
   "cell_type": "markdown",
   "source": "### Connect to OBS"
  },
  {
   "metadata": {
    "trusted": false
   },
   "cell_type": "code",
   "source": "from obswebsocket import obsws, requests\n\nhost = \"192.168.0.21\"\nport = 4455\npassword = \"cda123\"  # if set\n\nws = obsws(host, port, password)\nws.connect()",
   "execution_count": null,
   "outputs": []
  },
  {
   "metadata": {},
   "cell_type": "markdown",
   "source": "### Take a Screenshot of Current Preview or Program in OBS"
  },
  {
   "metadata": {
    "trusted": true
   },
   "cell_type": "code",
   "source": "import base64\nfrom IPython.display import Image, display\n\nresponse = ws.call(requests.TakeSourceScreenshot(sourceName=\"MainCam\", imageFormat=\"png\", imageWidth=1280, imageHeight=720))\nimage_data = response.getImageData()\n\n# Display inline\nimage_bytes = base64.b64decode(image_data)\ndisplay(Image(data=image_bytes))",
   "execution_count": null,
   "outputs": []
  },
  {
   "metadata": {},
   "cell_type": "markdown",
   "source": "### Record a short segment from OBS\n"
  },
  {
   "metadata": {
    "trusted": true
   },
   "cell_type": "code",
   "source": "# Start recording\nws.call(requests.StartRecording())\n\nimport time\ntime.sleep(5)  # Record for 5 seconds\n\n# Stop recording\nws.call(requests.StopRecording())\n\n# Get path to last recording\nrecord_path = ws.call(requests.GetRecordingStatus()).getRecordingFilename()\nrecord_path",
   "execution_count": null,
   "outputs": []
  },
  {
   "metadata": {},
   "cell_type": "markdown",
   "source": "### Display it in the notebook"
  },
  {
   "metadata": {
    "trusted": true
   },
   "cell_type": "code",
   "source": "from IPython.display import Video\nVideo(record_path)",
   "execution_count": null,
   "outputs": []
  },
  {
   "metadata": {},
   "cell_type": "markdown",
   "source": "---\n---\n\n## Pro Tips\n- You can now pipe the frames into:\n    - MediaPipe, \n    - YOLOv8, \n    - or OpenCV AI models\n\n- Annotate overlays based on inference results\n### You can record video from the OBS Virtual Cam with:\n"
  },
  {
   "metadata": {
    "trusted": true
   },
   "cell_type": "code",
   "source": "out = cv2.VideoWriter('obs_output.avi', cv2.VideoWriter_fourcc(*'XVID'), 30, (1280,720))\nfor _ in range(300):\n    ret, frame = cap.read()\n    if ret:\n        out.write(frame)\nout.release()",
   "execution_count": null,
   "outputs": []
  }
 ],
 "metadata": {
  "language_info": {
   "name": "python",
   "version": "3.10.4",
   "mimetype": "text/x-python",
   "codemirror_mode": {
    "name": "ipython",
    "version": 3
   },
   "pygments_lexer": "ipython3",
   "nbconvert_exporter": "python",
   "file_extension": ".py"
  },
  "kernelspec": {
   "name": "python3",
   "display_name": "Python 3",
   "language": "python"
  }
 },
 "nbformat": 4,
 "nbformat_minor": 2
}